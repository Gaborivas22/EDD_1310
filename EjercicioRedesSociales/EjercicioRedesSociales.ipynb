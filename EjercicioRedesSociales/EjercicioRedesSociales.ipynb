{
  "nbformat": 4,
  "nbformat_minor": 0,
  "metadata": {
    "colab": {
      "name": "EjercicioRedesSociales.ipynb",
      "provenance": []
    },
    "kernelspec": {
      "name": "python3",
      "display_name": "Python 3"
    },
    "language_info": {
      "name": "python"
    }
  },
  "cells": [
    {
      "cell_type": "code",
      "source": [
        "'''Autor: Gabriel Rivas Maldonado\n",
        "   Estructura de Datos\n",
        "   Grupo: 1310'''\n",
        "\n",
        "import pandas as pd #importamos librerias\n",
        "import numpy as np\n",
        "\n",
        "chart_data=pd.read_csv('presenciaredes.csv')#Accedemos al archivo\n",
        "\n",
        "p = np.asarray(chart_data)#Transformamos el archivo en un array\n",
        "\n",
        "print(chart_data)#Imprimimos por primera vez la tabla\n",
        "print(\"\\n\")\n",
        "\n",
        "junio=chart_data.loc[[7],[\"ENERO\",\"JUNIO\"]]#Mostramos la diferencia de followers\n",
        "print(junio)\n",
        "print(\"\\n\")\n",
        "enero=int(p[7][3])\n",
        "junio=int(p[7][8])\n",
        "resultado=enero-junio\n",
        "diferencia=np.abs(resultado)\n",
        "print(\"Entre Enero y Junio existio esta diferencia de followers en twitter:\")\n",
        "print(diferencia)\n",
        "print(\"\")\n",
        "\n",
        "#Mostramos la diferencia de visualizaciones entre los meses seleccionados\n",
        "opcion1=str(input(\"De que 1er mes deseas ver la diferencia? Por favor escribelo todo en mayusculas\"))\n",
        "opcion2=str(input(\"De que 2do mes deseas ver la diferencia? Por favor escribelo todo en mayusculas\"))\n",
        "meses=chart_data.loc[[15],[opcion1,opcion2]]\n",
        "print(meses)\n",
        "print(\"\\n\")\n",
        "\n",
        "#Calculamos el promedio de crecimiento en Twitter \n",
        "mesesTwitter=int(p[8][3])+int(p[8][4])+int(p[8][5])+int(p[8][6])+int(p[8][7])+int(p[8][8])\n",
        "promedioTwitter=mesesTwitter/6\n",
        "print(\"El promedio de crecimiento de Twitter es de: \", promedioTwitter)\n",
        "\n",
        "#Calculamos el promedio de crecimiento en Facebook\n",
        "mesesFeisbu = int(p[1][3])+int(p[1][4])+int(p[1][5])+int(p[1][6])+int(p[1][7])+int(p[1][8])\n",
        "promedioFeisbu = mesesFeisbu/6\n",
        "print(\"El promedio de crecimiento de Facebook es de: \", promedioFeisbu)\n"
      ],
      "metadata": {
        "id": "Vk5lQlfgzLlW"
      },
      "execution_count": null,
      "outputs": []
    }
  ]
}